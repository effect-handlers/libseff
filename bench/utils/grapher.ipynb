{
 "cells": [
  {
   "cell_type": "code",
   "execution_count": null,
   "metadata": {},
   "outputs": [],
   "source": [
    "from os import listdir\n",
    "from os.path import isfile, join\n",
    "import matplotlib.pyplot as plt\n",
    "from hyperfine_parser import parse_hyperfine\n",
    "from valgrind_parser import parse_valgrind\n",
    "from wrk2_parser import parse_wrk2\n",
    "from grapher import grapher\n",
    "\n"
   ]
  },
  {
   "cell_type": "code",
   "execution_count": null,
   "metadata": {},
   "outputs": [],
   "source": [
    "res = []\n",
    "with open('../context_switch_bench/output/bench-libseff.json') as f:\n",
    "    res += parse_hyperfine(f)\n",
    "with open('../context_switch_bench/output/bench-cppcoro.json') as f:\n",
    "    res += parse_hyperfine(f)\n",
    "with open('../context_switch_bench/output/bench-libco.json') as f:\n",
    "    res += parse_hyperfine(f)\n",
    "\n",
    "fig = plt.figure()\n",
    "ax = fig.add_subplot(111)\n",
    "\n",
    "grapher(res, ax)\n",
    "\n",
    "plt.show()"
   ]
  },
  {
   "cell_type": "code",
   "execution_count": null,
   "metadata": {},
   "outputs": [],
   "source": [
    "res = []\n",
    "with open('../memory_bench/output/bench-libseff.yaml') as f:\n",
    "    res += parse_valgrind(f)\n",
    "with open('../memory_bench/output/bench-cppcoro.yaml') as f:\n",
    "    res += parse_valgrind(f)\n",
    "with open('../memory_bench/output/bench-libco.yaml') as f:\n",
    "    res += parse_valgrind(f)\n",
    "\n",
    "fig = plt.figure()\n",
    "ax = fig.add_subplot(111)\n",
    "\n",
    "grapher(res, ax)\n",
    "ax.set_ylabel(\"memory consumed (bytes)\")\n",
    "\n",
    "plt.show()"
   ]
  },
  {
   "cell_type": "code",
   "execution_count": null,
   "metadata": {},
   "outputs": [],
   "source": [
    "labels = ['cohttp_eio', 'libscheff', 'nethttp_go', 'rust_hyper']\n",
    "conns = [100, 1000, 5000, 10000, 50000]\n",
    "threads = [8]\n",
    "rps = [800000]\n",
    "\n",
    "# THREADS\t= 8\n",
    "# CONNECTIONS = 100 1000 5000 10000 50000\n",
    "# RPS =  800000\n",
    "\n",
    "\n",
    "\n",
    "res = []\n",
    "\n",
    "for l in labels:\n",
    "    for c in conns:\n",
    "        for t in threads:\n",
    "            for r in rps:\n",
    "                name = f'../http_server_bench/output/bench-{l}-{c}-{t}-{r}.txt'\n",
    "                with open(name) as f:\n",
    "                    res += parse_wrk2(f)\n",
    "\n",
    "fig = plt.figure()\n",
    "ax = fig.add_subplot(111)\n",
    "\n",
    "grapher(res, ax, parameter_name='Connections')\n",
    "# ax.set_xscale('linear')\n",
    "\n",
    "plt.show()"
   ]
  },
  {
   "cell_type": "code",
   "execution_count": null,
   "metadata": {},
   "outputs": [],
   "source": [
    "labels = ['libscheff', 'cohttp_eio', 'nethttp_go', 'rust_hyper']\n",
    "conns = [1000]\n",
    "threads = [1, 8, 16, 32]\n",
    "rps = [2000000]\n",
    "\n",
    "res = []\n",
    "\n",
    "for l in labels:\n",
    "    for c in conns:\n",
    "        for t in threads:\n",
    "            for r in rps:\n",
    "                name = f'../http_server_bench/output/bench-{l}-{c}-{t}-{r}.txt'\n",
    "                with open(name) as f:\n",
    "                    res += parse_wrk2(f)\n",
    "\n",
    "fig = plt.figure()\n",
    "ax = fig.add_subplot(111)\n",
    "\n",
    "grapher(res, ax, parameter_name='Number of threads')\n",
    "\n",
    "plt.show()"
   ]
  },
  {
   "cell_type": "code",
   "execution_count": null,
   "metadata": {},
   "outputs": [],
   "source": []
  }
 ],
 "metadata": {
  "kernelspec": {
   "display_name": "Python 3",
   "language": "python",
   "name": "python3"
  },
  "language_info": {
   "codemirror_mode": {
    "name": "ipython",
    "version": 3
   },
   "file_extension": ".py",
   "mimetype": "text/x-python",
   "name": "python",
   "nbconvert_exporter": "python",
   "pygments_lexer": "ipython3",
   "version": "3.8.10"
  },
  "orig_nbformat": 4
 },
 "nbformat": 4,
 "nbformat_minor": 2
}
